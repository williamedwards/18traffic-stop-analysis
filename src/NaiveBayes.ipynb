{
 "cells": [
  {
   "cell_type": "code",
   "execution_count": 1,
   "metadata": {},
   "outputs": [],
   "source": [
    "from pgmpy.models import NaiveBayes\n",
    "from pgmpy.inference import VariableElimination\n",
    "import pandas as pd\n",
    "import numpy as np"
   ]
  },
  {
   "cell_type": "code",
   "execution_count": 2,
   "metadata": {},
   "outputs": [],
   "source": [
    "model = NaiveBayes()"
   ]
  },
  {
   "cell_type": "code",
   "execution_count": 3,
   "metadata": {},
   "outputs": [],
   "source": [
    "df = pd.read_csv(\"../data/very-small-SC-clean.csv\", \n",
    "                         usecols=[\"id\", \"driver_gender\", \"driver_race\", \"officer_race\", \"stop_outcome\"], \n",
    "                         dtype={\"id\" : \"str\", \"driver_gender\" : \"category\", \"driver_race\" : \"category\",\n",
    "                                \"officer_race\" : \"category\", \"stop_outcome\" : \"category\"})"
   ]
  },
  {
   "cell_type": "code",
   "execution_count": 4,
   "metadata": {},
   "outputs": [],
   "source": [
    "model.add_nodes_from([\"driver_gender\", \"stop_outcome\"])"
   ]
  },
  {
   "cell_type": "code",
   "execution_count": 5,
   "metadata": {},
   "outputs": [],
   "source": [
    "model.add_edges_from([(\"stop_outcome\", \"driver_gender\"), (\"stop_outcome\", \"driver_race\"), (\"stop_outcome\", \"officer_race\")])"
   ]
  },
  {
   "cell_type": "code",
   "execution_count": 6,
   "metadata": {},
   "outputs": [],
   "source": [
    "df.drop([\"id\"], axis=1, inplace=True)"
   ]
  },
  {
   "cell_type": "code",
   "execution_count": 7,
   "metadata": {},
   "outputs": [],
   "source": [
    "model.fit(df)"
   ]
  },
  {
   "cell_type": "code",
   "execution_count": 8,
   "metadata": {},
   "outputs": [
    {
     "name": "stdout",
     "output_type": "stream",
     "text": [
      "╒══════════════════╤══════════════════════╤════════════════════════╤═══════════════════════╕\n",
      "│ stop_outcome     │ stop_outcome(Arrest) │ stop_outcome(Citation) │ stop_outcome(Warning) │\n",
      "├──────────────────┼──────────────────────┼────────────────────────┼───────────────────────┤\n",
      "│ driver_gender(F) │ 0.0                  │ 0.32857142857142857    │ 0.3076923076923077    │\n",
      "├──────────────────┼──────────────────────┼────────────────────────┼───────────────────────┤\n",
      "│ driver_gender(M) │ 1.0                  │ 0.6714285714285714     │ 0.6923076923076923    │\n",
      "╘══════════════════╧══════════════════════╧════════════════════════╧═══════════════════════╛\n",
      "╒═══════════════════════╤══════════════════════╤════════════════════════╤═══════════════════════╕\n",
      "│ stop_outcome          │ stop_outcome(Arrest) │ stop_outcome(Citation) │ stop_outcome(Warning) │\n",
      "├───────────────────────┼──────────────────────┼────────────────────────┼───────────────────────┤\n",
      "│ driver_race(Black)    │ 0.6666666666666666   │ 0.2                    │ 0.3076923076923077    │\n",
      "├───────────────────────┼──────────────────────┼────────────────────────┼───────────────────────┤\n",
      "│ driver_race(Hispanic) │ 0.0                  │ 0.12857142857142856    │ 0.0                   │\n",
      "├───────────────────────┼──────────────────────┼────────────────────────┼───────────────────────┤\n",
      "│ driver_race(Other)    │ 0.0                  │ 0.02857142857142857    │ 0.0                   │\n",
      "├───────────────────────┼──────────────────────┼────────────────────────┼───────────────────────┤\n",
      "│ driver_race(White)    │ 0.3333333333333333   │ 0.6428571428571429     │ 0.6923076923076923    │\n",
      "╘═══════════════════════╧══════════════════════╧════════════════════════╧═══════════════════════╛\n",
      "╒═════════════════════╤══════════════════════╤════════════════════════╤═══════════════════════╕\n",
      "│ stop_outcome        │ stop_outcome(Arrest) │ stop_outcome(Citation) │ stop_outcome(Warning) │\n",
      "├─────────────────────┼──────────────────────┼────────────────────────┼───────────────────────┤\n",
      "│ officer_race(Asian) │ 0.0                  │ 0.014285714285714285   │ 0.0                   │\n",
      "├─────────────────────┼──────────────────────┼────────────────────────┼───────────────────────┤\n",
      "│ officer_race(Black) │ 0.0                  │ 0.05714285714285714    │ 0.0                   │\n",
      "├─────────────────────┼──────────────────────┼────────────────────────┼───────────────────────┤\n",
      "│ officer_race(White) │ 1.0                  │ 0.9285714285714286     │ 1.0                   │\n",
      "╘═════════════════════╧══════════════════════╧════════════════════════╧═══════════════════════╛\n",
      "╒════════════════════════╤══════════╕\n",
      "│ stop_outcome(Arrest)   │ 0.030303 │\n",
      "├────────────────────────┼──────────┤\n",
      "│ stop_outcome(Citation) │ 0.707071 │\n",
      "├────────────────────────┼──────────┤\n",
      "│ stop_outcome(Warning)  │ 0.262626 │\n",
      "╘════════════════════════╧══════════╛\n"
     ]
    }
   ],
   "source": [
    "for cpd in model.get_cpds():\n",
    "    print(cpd)"
   ]
  },
  {
   "cell_type": "code",
   "execution_count": 9,
   "metadata": {},
   "outputs": [],
   "source": [
    "predict_data = df.copy()"
   ]
  },
  {
   "cell_type": "code",
   "execution_count": 10,
   "metadata": {},
   "outputs": [],
   "source": [
    "predict_data.drop([\"stop_outcome\"], axis=1, inplace=True)"
   ]
  },
  {
   "cell_type": "code",
   "execution_count": null,
   "metadata": {},
   "outputs": [],
   "source": []
  },
  {
   "cell_type": "code",
   "execution_count": 19,
   "metadata": {},
   "outputs": [
    {
     "name": "stdout",
     "output_type": "stream",
     "text": [
      "╒════════════════╤═════════════════════╕\n",
      "│ stop_outcome   │   phi(stop_outcome) │\n",
      "╞════════════════╪═════════════════════╡\n",
      "│ stop_outcome_0 │              0.1181 │\n",
      "├────────────────┼─────────────────────┤\n",
      "│ stop_outcome_1 │              0.5550 │\n",
      "├────────────────┼─────────────────────┤\n",
      "│ stop_outcome_2 │              0.3270 │\n",
      "╘════════════════╧═════════════════════╛\n"
     ]
    }
   ],
   "source": [
    "infer = VariableElimination(model)\n",
    "r = infer.query(variables=[\"stop_outcome\"], evidence={\"driver_gender\" : 1, \"driver_race\" : 0})\n",
    "print(r['stop_outcome'])"
   ]
  },
  {
   "cell_type": "code",
   "execution_count": null,
   "metadata": {},
   "outputs": [],
   "source": []
  },
  {
   "cell_type": "code",
   "execution_count": null,
   "metadata": {},
   "outputs": [],
   "source": []
  }
 ],
 "metadata": {
  "kernelspec": {
   "display_name": "Python 3",
   "language": "python",
   "name": "python3"
  },
  "language_info": {
   "codemirror_mode": {
    "name": "ipython",
    "version": 3
   },
   "file_extension": ".py",
   "mimetype": "text/x-python",
   "name": "python",
   "nbconvert_exporter": "python",
   "pygments_lexer": "ipython3",
   "version": "3.6.4"
  }
 },
 "nbformat": 4,
 "nbformat_minor": 2
}
