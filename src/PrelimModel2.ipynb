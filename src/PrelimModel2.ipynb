{
 "cells": [
  {
   "cell_type": "code",
   "execution_count": 1,
   "metadata": {},
   "outputs": [],
   "source": [
    "from pgmpy.models import BayesianModel\n",
    "from pgmpy.estimators import ConstraintBasedEstimator\n",
    "from pgmpy.inference import VariableElimination\n",
    "import pandas as pd\n",
    "import numpy as np"
   ]
  },
  {
   "cell_type": "code",
   "execution_count": null,
   "metadata": {},
   "outputs": [],
   "source": []
  },
  {
   "cell_type": "code",
   "execution_count": 2,
   "metadata": {},
   "outputs": [],
   "source": [
    "df = pd.read_csv(\"../data/small-SC-clean.csv\", \n",
    "                 usecols=[\"driver_gender\", \"driver_race\", \"officer_race\",\n",
    "                          \"county_name\", \"search_conducted\", \"stop_outcome\"], \n",
    "                 dtype={\"driver_gender\" : \"category\", \"driver_race\" : \"category\",\n",
    "                        \"officer_race\" : \"category\", \"stop_outcome\" : \"category\",\n",
    "                        \"officer_age\" : \"float\", \"driver_age\" : \"float\", \"county_name\" : \"category\",\n",
    "                        \"search_conducted\" : \"category\", \"stop_outcome\" : \"category\"})"
   ]
  },
  {
   "cell_type": "code",
   "execution_count": 3,
   "metadata": {},
   "outputs": [],
   "source": [
    "#model = BayesianModel()"
   ]
  },
  {
   "cell_type": "code",
   "execution_count": 4,
   "metadata": {},
   "outputs": [],
   "source": [
    "#model.add_nodes_from([\"officer_race\", \"officer_age\", \"county_name\", \"driver_race\", \"driver_age\", \"driver_gender\", \"search_conducted\", \"stop_outcome\"])"
   ]
  },
  {
   "cell_type": "code",
   "execution_count": 5,
   "metadata": {},
   "outputs": [
    {
     "name": "stderr",
     "output_type": "stream",
     "text": [
      "/home/william/School/CSCE582/lib/python3.6/site-packages/pgmpy/estimators/ConstraintBasedEstimator.py:326: UserWarning: PDAG has no faithful extension (= no oriented DAG with the same v-structures as PDAG). Remaining undirected PDAG edges oriented arbitrarily.\n",
      "  \"oriented arbitrarily.\")\n"
     ]
    }
   ],
   "source": [
    "c = ConstraintBasedEstimator(df)\n",
    "model = c.estimate()"
   ]
  },
  {
   "cell_type": "code",
   "execution_count": 9,
   "metadata": {},
   "outputs": [
    {
     "data": {
      "text/plain": [
       "[('county_name', 'stop_outcome'),\n",
       " ('county_name', 'driver_race'),\n",
       " ('driver_gender', 'county_name'),\n",
       " ('driver_gender', 'driver_race'),\n",
       " ('driver_race', 'stop_outcome'),\n",
       " ('stop_outcome', 'search_conducted'),\n",
       " ('officer_race', 'county_name')]"
      ]
     },
     "execution_count": 9,
     "metadata": {},
     "output_type": "execute_result"
    }
   ],
   "source": [
    "model.edges()"
   ]
  },
  {
   "cell_type": "code",
   "execution_count": 7,
   "metadata": {},
   "outputs": [],
   "source": [
    "model.fit(df)"
   ]
  },
  {
   "cell_type": "code",
   "execution_count": 8,
   "metadata": {},
   "outputs": [
    {
     "name": "stdout",
     "output_type": "stream",
     "text": [
      "╒══════════════════╤══════════╕\n",
      "│ driver_gender(F) │ 0.329679 │\n",
      "├──────────────────┼──────────┤\n",
      "│ driver_gender(M) │ 0.670321 │\n",
      "╘══════════════════╧══════════╛\n"
     ]
    }
   ],
   "source": [
    "print(model.get_cpds()[1])"
   ]
  },
  {
   "cell_type": "code",
   "execution_count": null,
   "metadata": {},
   "outputs": [],
   "source": []
  }
 ],
 "metadata": {
  "kernelspec": {
   "display_name": "Python 3",
   "language": "python",
   "name": "python3"
  },
  "language_info": {
   "codemirror_mode": {
    "name": "ipython",
    "version": 3
   },
   "file_extension": ".py",
   "mimetype": "text/x-python",
   "name": "python",
   "nbconvert_exporter": "python",
   "pygments_lexer": "ipython3",
   "version": "3.6.4"
  }
 },
 "nbformat": 4,
 "nbformat_minor": 2
}
