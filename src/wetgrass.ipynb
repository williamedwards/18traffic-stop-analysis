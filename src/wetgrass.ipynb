{
 "cells": [
  {
   "cell_type": "code",
   "execution_count": 1,
   "metadata": {},
   "outputs": [],
   "source": [
    "from pgmpy.models import BayesianModel\n",
    "from pgmpy.factors.discrete import TabularCPD\n",
    "from pgmpy.inference import VariableElimination"
   ]
  },
  {
   "cell_type": "code",
   "execution_count": 2,
   "metadata": {},
   "outputs": [],
   "source": [
    "# define variables\n",
    "wetgrass_model = BayesianModel([('R', 'N'), \n",
    "                                ('R', 'M'),\n",
    "                                ('S', 'M')])\n",
    "\n",
    "# define parameters\n",
    "cpd_R = TabularCPD(variable='R', variable_card=2, values=[[0.9], [0.1]])\n",
    "cpd_S = TabularCPD(variable='S', variable_card=2, values=[[0.9], [0.1]])\n",
    "cpd_N = TabularCPD(variable='N', variable_card=2, values=[[0.99, 0.01], [0.01, 0.99]],\n",
    "                  evidence=['R'], evidence_card=[2])\n",
    "cpd_M = TabularCPD(variable='M', variable_card=2, values=[[0.99, 0.01, 0.01, 0.01],\n",
    "                                                          [0.01, 0.99, 0.99, 0.99]],\n",
    "                   evidence=['R', 'S'], evidence_card=[2, 2])"
   ]
  },
  {
   "cell_type": "code",
   "execution_count": 3,
   "metadata": {},
   "outputs": [
    {
     "data": {
      "text/plain": [
       "True"
      ]
     },
     "execution_count": 3,
     "metadata": {},
     "output_type": "execute_result"
    }
   ],
   "source": [
    "# Associating the parameters with the model structure.\n",
    "wetgrass_model.add_cpds(cpd_R, cpd_S, cpd_N, cpd_M)\n",
    "\n",
    "# Checking if the cpds are valid for the model.\n",
    "wetgrass_model.check_model()"
   ]
  },
  {
   "cell_type": "code",
   "execution_count": 4,
   "metadata": {},
   "outputs": [
    {
     "data": {
      "text/plain": [
       "['R', 'N', 'M', 'S']"
      ]
     },
     "execution_count": 4,
     "metadata": {},
     "output_type": "execute_result"
    }
   ],
   "source": [
    "wetgrass_model.nodes()"
   ]
  },
  {
   "cell_type": "code",
   "execution_count": 5,
   "metadata": {},
   "outputs": [
    {
     "data": {
      "text/plain": [
       "[('R', 'N'), ('R', 'M'), ('S', 'M')]"
      ]
     },
     "execution_count": 5,
     "metadata": {},
     "output_type": "execute_result"
    }
   ],
   "source": [
    "wetgrass_model.edges()"
   ]
  },
  {
   "cell_type": "code",
   "execution_count": 6,
   "metadata": {},
   "outputs": [
    {
     "data": {
      "text/plain": [
       "False"
      ]
     },
     "execution_count": 6,
     "metadata": {},
     "output_type": "execute_result"
    }
   ],
   "source": [
    "# Doing some simple queries on the network\n",
    "wetgrass_model.is_active_trail('R', 'S')"
   ]
  },
  {
   "cell_type": "code",
   "execution_count": 7,
   "metadata": {},
   "outputs": [
    {
     "data": {
      "text/plain": [
       "True"
      ]
     },
     "execution_count": 7,
     "metadata": {},
     "output_type": "execute_result"
    }
   ],
   "source": [
    "wetgrass_model.is_active_trail('R', 'S', observed=['M'])"
   ]
  },
  {
   "cell_type": "code",
   "execution_count": 8,
   "metadata": {},
   "outputs": [
    {
     "data": {
      "text/plain": [
       "(R _|_ S)\n",
       "(R _|_ S | N)\n",
       "(N _|_ S)\n",
       "(N _|_ M, S | R)\n",
       "(N _|_ S | R, M)\n",
       "(N _|_ M | R, S)\n",
       "(M _|_ N | R)\n",
       "(M _|_ N | R, S)\n",
       "(S _|_ R, N)\n",
       "(S _|_ N | R)\n",
       "(S _|_ R | N)\n",
       "(S _|_ N | R, M)"
      ]
     },
     "execution_count": 8,
     "metadata": {},
     "output_type": "execute_result"
    }
   ],
   "source": [
    "wetgrass_model.get_independencies()"
   ]
  },
  {
   "cell_type": "code",
   "execution_count": 9,
   "metadata": {},
   "outputs": [
    {
     "name": "stdout",
     "output_type": "stream",
     "text": [
      "╒═════╤══════════╕\n",
      "│ M   │   phi(M) │\n",
      "╞═════╪══════════╡\n",
      "│ M_0 │   0.8038 │\n",
      "├─────┼──────────┤\n",
      "│ M_1 │   0.1962 │\n",
      "╘═════╧══════════╛\n"
     ]
    }
   ],
   "source": [
    "# Doing exact inference using Variable Elimination\n",
    "wetgrass_infer = VariableElimination(wetgrass_model)\n",
    "m = wetgrass_infer.query(variables=['M'])\n",
    "print(m['M'])"
   ]
  },
  {
   "cell_type": "code",
   "execution_count": 10,
   "metadata": {},
   "outputs": [
    {
     "name": "stdout",
     "output_type": "stream",
     "text": [
      "╒═════╤══════════╕\n",
      "│ R   │   phi(R) │\n",
      "╞═════╪══════════╡\n",
      "│ R_0 │   0.4954 │\n",
      "├─────┼──────────┤\n",
      "│ R_1 │   0.5046 │\n",
      "╘═════╧══════════╛\n"
     ]
    }
   ],
   "source": [
    "r = wetgrass_infer.query(variables=['R'], evidence={'M': 1})\n",
    "print(r['R'])"
   ]
  },
  {
   "cell_type": "code",
   "execution_count": 11,
   "metadata": {},
   "outputs": [
    {
     "name": "stdout",
     "output_type": "stream",
     "text": [
      "╒═════╤══════════╕\n",
      "│ R   │   phi(R) │\n",
      "╞═════╪══════════╡\n",
      "│ R_0 │   0.0098 │\n",
      "├─────┼──────────┤\n",
      "│ R_1 │   0.9902 │\n",
      "╘═════╧══════════╛\n"
     ]
    }
   ],
   "source": [
    "r = wetgrass_infer.query(variables=['R'], evidence={'M': 1, 'N': 1})\n",
    "print(r['R'])"
   ]
  },
  {
   "cell_type": "code",
   "execution_count": null,
   "metadata": {},
   "outputs": [],
   "source": []
  }
 ],
 "metadata": {
  "anaconda-cloud": {},
  "kernelspec": {
   "display_name": "Python 3",
   "language": "python",
   "name": "python3"
  },
  "language_info": {
   "codemirror_mode": {
    "name": "ipython",
    "version": 3
   },
   "file_extension": ".py",
   "mimetype": "text/x-python",
   "name": "python",
   "nbconvert_exporter": "python",
   "pygments_lexer": "ipython3",
   "version": "3.6.4"
  }
 },
 "nbformat": 4,
 "nbformat_minor": 1
}
