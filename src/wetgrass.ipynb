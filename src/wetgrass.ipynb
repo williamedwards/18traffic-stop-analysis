{
 "cells": [
  {
   "cell_type": "code",
   "execution_count": 1,
   "metadata": {
    "collapsed": true
   },
   "outputs": [],
   "source": [
    "from pgmpy.models import BayesianModel\n",
    "from pgmpy.factors.discrete import TabularCPD\n",
    "from pgmpy.inference import VariableElimination"
   ]
  },
  {
   "cell_type": "code",
   "execution_count": 2,
   "metadata": {
    "collapsed": true
   },
   "outputs": [],
   "source": [
    "# define variables\n",
    "wetgrass_model = BayesianModel([('R', 'N'), \n",
    "                                ('R', 'M'),\n",
    "                                ('S', 'M')])\n",
    "\n",
    "# define parameters\n",
    "cpd_R = TabularCPD(variable='R', variable_card=2, values=[[0.9], [0.1]])\n",
    "cpd_S = TabularCPD(variable='S', variable_card=2, values=[[0.9], [0.1]])\n",
    "cpd_N = TabularCPD(variable='N', variable_card=2, values=[[0.99, 0.01], [0.01, 0.99]],\n",
    "                  evidence=['R'], evidence_card=[2])\n",
    "cpd_M = TabularCPD(variable='M', variable_card=2, values=[[0.99, 0.01, 0.01, 0.01],\n",
    "                                                          [0.01, 0.99, 0.99, 0.99]],\n",
    "                   evidence=['R', 'S'], evidence_card=[2, 2])"
   ]
  },
  {
   "cell_type": "code",
   "execution_count": 3,
   "metadata": {
    "collapsed": false
   },
   "outputs": [
    {
     "data": {
      "text/plain": [
       "True"
      ]
     },
     "execution_count": 3,
     "metadata": {},
     "output_type": "execute_result"
    }
   ],
   "source": [
    "# Associating the parameters with the model structure.\n",
    "wetgrass_model.add_cpds(cpd_R, cpd_S, cpd_N, cpd_M)\n",
    "\n",
    "# Checking if the cpds are valid for the model.\n",
    "wetgrass_model.check_model()"
   ]
  },
  {
   "cell_type": "code",
   "execution_count": 4,
   "metadata": {
    "collapsed": false
   },
   "outputs": [
    {
     "data": {
      "text/plain": [
       "['S', 'R', 'M', 'N']"
      ]
     },
     "execution_count": 4,
     "metadata": {},
     "output_type": "execute_result"
    }
   ],
   "source": [
    "wetgrass_model.nodes()"
   ]
  },
  {
   "cell_type": "code",
   "execution_count": 5,
   "metadata": {
    "collapsed": false
   },
   "outputs": [
    {
     "data": {
      "text/plain": [
       "[('S', 'M'), ('R', 'M'), ('R', 'N')]"
      ]
     },
     "execution_count": 5,
     "metadata": {},
     "output_type": "execute_result"
    }
   ],
   "source": [
    "wetgrass_model.edges()"
   ]
  },
  {
   "cell_type": "code",
   "execution_count": 7,
   "metadata": {
    "collapsed": false
   },
   "outputs": [
    {
     "data": {
      "text/plain": [
       "False"
      ]
     },
     "execution_count": 7,
     "metadata": {},
     "output_type": "execute_result"
    }
   ],
   "source": [
    "# Doing some simple queries on the network\n",
    "wetgrass_model.is_active_trail('R', 'S')"
   ]
  },
  {
   "cell_type": "code",
   "execution_count": 8,
   "metadata": {
    "collapsed": false
   },
   "outputs": [
    {
     "data": {
      "text/plain": [
       "True"
      ]
     },
     "execution_count": 8,
     "metadata": {},
     "output_type": "execute_result"
    }
   ],
   "source": [
    "wetgrass_model.is_active_trail('R', 'S', observed=['M'])"
   ]
  },
  {
   "cell_type": "code",
   "execution_count": 9,
   "metadata": {
    "collapsed": false
   },
   "outputs": [
    {
     "data": {
      "text/plain": [
       "(S _|_ R, N)\n",
       "(S _|_ N | R)\n",
       "(S _|_ R | N)\n",
       "(S _|_ N | R, M)\n",
       "(R _|_ S)\n",
       "(R _|_ S | N)\n",
       "(M _|_ N | R)\n",
       "(M _|_ N | S, R)\n",
       "(N _|_ S)\n",
       "(N _|_ S, M | R)\n",
       "(N _|_ M | S, R)\n",
       "(N _|_ S | R, M)"
      ]
     },
     "execution_count": 9,
     "metadata": {},
     "output_type": "execute_result"
    }
   ],
   "source": [
    "wetgrass_model.get_independencies()"
   ]
  },
  {
   "cell_type": "code",
   "execution_count": 10,
   "metadata": {
    "collapsed": false
   },
   "outputs": [
    {
     "name": "stdout",
     "output_type": "stream",
     "text": [
      "+-----+----------+\n",
      "| M   |   phi(M) |\n",
      "|-----+----------|\n",
      "| M_0 |   0.8038 |\n",
      "| M_1 |   0.1962 |\n",
      "+-----+----------+\n"
     ]
    }
   ],
   "source": [
    "# Doing exact inference using Variable Elimination\n",
    "wetgrass_infer = VariableElimination(wetgrass_model)\n",
    "m = wetgrass_infer.query(variables=['M'])\n",
    "print(m['M'])"
   ]
  },
  {
   "cell_type": "code",
   "execution_count": 11,
   "metadata": {
    "collapsed": false
   },
   "outputs": [
    {
     "name": "stdout",
     "output_type": "stream",
     "text": [
      "+-----+----------+\n",
      "| R   |   phi(R) |\n",
      "|-----+----------|\n",
      "| R_0 |   0.4954 |\n",
      "| R_1 |   0.5046 |\n",
      "+-----+----------+\n"
     ]
    }
   ],
   "source": [
    "r = wetgrass_infer.query(variables=['R'], evidence={'M': 1})\n",
    "print(r['R'])"
   ]
  },
  {
   "cell_type": "code",
   "execution_count": 12,
   "metadata": {
    "collapsed": false
   },
   "outputs": [
    {
     "name": "stdout",
     "output_type": "stream",
     "text": [
      "+-----+----------+\n",
      "| R   |   phi(R) |\n",
      "|-----+----------|\n",
      "| R_0 |   0.0098 |\n",
      "| R_1 |   0.9902 |\n",
      "+-----+----------+\n"
     ]
    }
   ],
   "source": [
    "r = wetgrass_infer.query(variables=['R'], evidence={'M': 1, 'N': 1})\n",
    "print(r['R'])"
   ]
  },
  {
   "cell_type": "code",
   "execution_count": null,
   "metadata": {
    "collapsed": true
   },
   "outputs": [],
   "source": []
  }
 ],
 "metadata": {
  "anaconda-cloud": {},
  "kernelspec": {
   "display_name": "Python [anaconda]",
   "language": "python",
   "name": "Python [anaconda]"
  },
  "language_info": {
   "codemirror_mode": {
    "name": "ipython",
    "version": 2
   },
   "file_extension": ".py",
   "mimetype": "text/x-python",
   "name": "python",
   "nbconvert_exporter": "python",
   "pygments_lexer": "ipython2",
   "version": "2.7.12"
  }
 },
 "nbformat": 4,
 "nbformat_minor": 0
}
